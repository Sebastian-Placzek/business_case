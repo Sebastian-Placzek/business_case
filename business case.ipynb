{
 "cells": [
  {
   "cell_type": "code",
   "execution_count": 2,
   "metadata": {},
   "outputs": [],
   "source": [
    "import pandas as pd\n",
    "import numpy as np\n",
    "import matplotlib.pyplot as plt\n",
    "import tensorflow as tf\n",
    "from sklearn import preprocessing\n",
    "\n",
    "raw_csv_data = np.loadtxt('tensorflow_project\\\\Audiobooks_data.csv', delimiter= ',')\n",
    "\n",
    "unscaled_inputs_all = raw_csv_data[:,1:-1]\n",
    "targets_all = raw_csv_data[:,-1]"
   ]
  },
  {
   "cell_type": "code",
   "execution_count": 3,
   "metadata": {},
   "outputs": [],
   "source": [
    "#balance dataset\n",
    "\n",
    "num_one_targets = int(np.sum(targets_all))\n",
    "zero_targets_counter = 0\n",
    "indices_to_remove= []\n",
    "\n",
    "for i in range(targets_all.shape[0]):\n",
    "    if targets_all[i] ==0:\n",
    "        zero_targets_counter += 1\n",
    "        if zero_targets_counter > num_one_targets:\n",
    "            indices_to_remove.append(i)\n",
    "            \n",
    "unscaled_inputs_equal_priors = np.delete(unscaled_inputs_all, indices_to_remove, axis = 0)\n",
    "targets_equal_priors = np.delete(targets_all, indices_to_remove, axis=0)\n",
    "\n"
   ]
  },
  {
   "cell_type": "code",
   "execution_count": 4,
   "metadata": {},
   "outputs": [],
   "source": [
    "#standarize the inputs\n",
    "\n",
    "scaled_inputs = preprocessing.scale(unscaled_inputs_equal_priors)\n"
   ]
  },
  {
   "cell_type": "code",
   "execution_count": 5,
   "metadata": {},
   "outputs": [],
   "source": [
    "#shuffle the data\n",
    "\n",
    "shuffled_indices = np.arange(scaled_inputs.shape[0])\n",
    "np.random.shuffle(shuffled_indices)\n",
    "\n",
    "shuffled_inputs = scaled_inputs[shuffled_indices]\n",
    "shuffled_targets = targets_equal_priors[shuffled_indices]\n"
   ]
  },
  {
   "cell_type": "code",
   "execution_count": 6,
   "metadata": {},
   "outputs": [
    {
     "name": "stdout",
     "output_type": "stream",
     "text": [
      "1817.0 3579 0.5076837105336687\n",
      "208.0 447 0.46532438478747196\n",
      "212.0 448 0.47321428571428564\n"
     ]
    }
   ],
   "source": [
    "#split the dataset into train,validation, and test\n",
    "\n",
    "samples_count = shuffled_inputs.shape[0]\n",
    "\n",
    "train_samples_count = int(0.8*samples_count)\n",
    "validation_samples_count = int(0.1*samples_count)\n",
    "test_samples_count = samples_count - train_samples_count - validation_samples_count\n",
    "\n",
    "train_inputs = shuffled_inputs[:train_samples_count]\n",
    "train_targets = shuffled_targets[:train_samples_count]\n",
    "\n",
    "validation_inputs = shuffled_inputs[train_samples_count:train_samples_count+validation_samples_count]\n",
    "validation_targets = shuffled_targets[train_samples_count:train_samples_count+validation_samples_count]\n",
    "\n",
    "test_inputs = shuffled_inputs[train_samples_count+validation_samples_count:]\n",
    "test_targets = shuffled_targets[train_samples_count+validation_samples_count:]\n",
    "\n",
    "print(np.sum(train_targets), train_samples_count, np.sum(train_targets/train_samples_count))\n",
    "print(np.sum(validation_targets), validation_samples_count ,np.sum(validation_targets/validation_samples_count))\n",
    "print(np.sum(test_targets), test_samples_count, np.sum(test_targets/test_samples_count))"
   ]
  },
  {
   "cell_type": "code",
   "execution_count": 7,
   "metadata": {},
   "outputs": [],
   "source": [
    "np.random.shuffle(shuffled_indices)"
   ]
  },
  {
   "cell_type": "code",
   "execution_count": 8,
   "metadata": {},
   "outputs": [],
   "source": [
    "np.savez('Audiobooks_data_train',inputs = train_inputs, targets= train_targets)\n",
    "np.savez('Audiobooks_data_validation',inputs = validation_inputs, targets= validation_targets)\n",
    "np.savez('Audiobooks_data_test',inputs = test_inputs, targets= test_targets)"
   ]
  },
  {
   "cell_type": "markdown",
   "metadata": {},
   "source": [
    "# Machine Learning Algorithm"
   ]
  },
  {
   "cell_type": "code",
   "execution_count": 9,
   "metadata": {},
   "outputs": [],
   "source": [
    "npz = np.load('Audiobooks_data_train.npz')\n",
    "\n",
    "train_inputs = npz['inputs'].astype(np.float)\n",
    "train_targets = npz['targets'].astype(np.int)\n",
    "\n",
    "npz = np.load('Audiobooks_data_validation.npz')\n",
    "valiation_inputs, validation_targets = npz['inputs'].astype(np.float), npz['targets'].astype(np.int)\n",
    "\n",
    "npz = np.load('Audiobooks_data_test.npz')\n",
    "test_inputs, test_targets = npz['inputs'].astype(np.float), npz['targets'].astype(np.int)"
   ]
  },
  {
   "cell_type": "code",
   "execution_count": 10,
   "metadata": {},
   "outputs": [
    {
     "name": "stdout",
     "output_type": "stream",
     "text": [
      "WARNING:tensorflow:From C:\\Users\\Seba\\Anaconda3\\lib\\site-packages\\tensorflow_core\\python\\ops\\resource_variable_ops.py:1630: calling BaseResourceVariable.__init__ (from tensorflow.python.ops.resource_variable_ops) with constraint is deprecated and will be removed in a future version.\n",
      "Instructions for updating:\n",
      "If using Keras pass *_constraint arguments to layers.\n",
      "Train on 3579 samples, validate on 447 samples\n",
      "Epoch 1/100\n",
      "3579/3579 - 1s - loss: 0.4964 - acc: 0.8206 - val_loss: 0.3635 - val_acc: 0.8680\n",
      "Epoch 2/100\n",
      "3579/3579 - 0s - loss: 0.3255 - acc: 0.8838 - val_loss: 0.3134 - val_acc: 0.8792\n",
      "Epoch 3/100\n",
      "3579/3579 - 0s - loss: 0.2867 - acc: 0.8938 - val_loss: 0.2815 - val_acc: 0.8904\n",
      "Epoch 4/100\n",
      "3579/3579 - 0s - loss: 0.2686 - acc: 0.9030 - val_loss: 0.2676 - val_acc: 0.8971\n",
      "Epoch 5/100\n",
      "3579/3579 - 0s - loss: 0.2584 - acc: 0.9033 - val_loss: 0.2648 - val_acc: 0.9016\n",
      "Epoch 6/100\n",
      "3579/3579 - 0s - loss: 0.2513 - acc: 0.9050 - val_loss: 0.2561 - val_acc: 0.9016\n",
      "Epoch 7/100\n",
      "3579/3579 - 0s - loss: 0.2470 - acc: 0.9084 - val_loss: 0.2533 - val_acc: 0.9038\n",
      "Epoch 8/100\n",
      "3579/3579 - 0s - loss: 0.2455 - acc: 0.9075 - val_loss: 0.2527 - val_acc: 0.9016\n",
      "Epoch 9/100\n",
      "3579/3579 - 0s - loss: 0.2443 - acc: 0.9103 - val_loss: 0.2505 - val_acc: 0.9016\n",
      "Epoch 10/100\n",
      "3579/3579 - 0s - loss: 0.2368 - acc: 0.9125 - val_loss: 0.2552 - val_acc: 0.9060\n",
      "Epoch 11/100\n",
      "3579/3579 - 0s - loss: 0.2369 - acc: 0.9117 - val_loss: 0.2488 - val_acc: 0.9105\n",
      "Epoch 12/100\n",
      "3579/3579 - 0s - loss: 0.2348 - acc: 0.9134 - val_loss: 0.2489 - val_acc: 0.9038\n",
      "Epoch 13/100\n",
      "3579/3579 - 0s - loss: 0.2347 - acc: 0.9145 - val_loss: 0.2397 - val_acc: 0.9083\n",
      "Epoch 14/100\n",
      "3579/3579 - 0s - loss: 0.2296 - acc: 0.9156 - val_loss: 0.2463 - val_acc: 0.9083\n",
      "Epoch 15/100\n",
      "3579/3579 - 0s - loss: 0.2294 - acc: 0.9148 - val_loss: 0.2390 - val_acc: 0.9083\n",
      "Epoch 16/100\n",
      "3579/3579 - 0s - loss: 0.2258 - acc: 0.9170 - val_loss: 0.2377 - val_acc: 0.9150\n",
      "Epoch 17/100\n",
      "3579/3579 - 0s - loss: 0.2270 - acc: 0.9153 - val_loss: 0.2469 - val_acc: 0.9083\n",
      "Epoch 18/100\n",
      "3579/3579 - 0s - loss: 0.2281 - acc: 0.9167 - val_loss: 0.2397 - val_acc: 0.8993\n"
     ]
    },
    {
     "data": {
      "text/plain": [
       "<tensorflow.python.keras.callbacks.History at 0x1d7c236e080>"
      ]
     },
     "execution_count": 10,
     "metadata": {},
     "output_type": "execute_result"
    }
   ],
   "source": [
    "#MODEL\n",
    "\n",
    "input_size = 10\n",
    "output_size = 2\n",
    "hidden_layer_size = 50\n",
    "\n",
    "model = tf.keras.Sequential([\n",
    "                            tf.keras.layers.Dense(hidden_layer_size,activation='relu'),\n",
    "                            tf.keras.layers.Dense(hidden_layer_size,activation='relu'),\n",
    "                            tf.keras.layers.Dense(hidden_layer_size,activation='relu'),\n",
    "                            tf.keras.layers.Dense(output_size,activation='softmax')\n",
    "])\n",
    "\n",
    "model.compile(optimizer='adam', loss='sparse_categorical_crossentropy', metrics=['accuracy'])\n",
    "\n",
    "batch_size = 100\n",
    "\n",
    "max_epochs = 100\n",
    "\n",
    "early_stopping = tf.keras.callbacks.EarlyStopping(patience=2)\n",
    "\n",
    "model.fit(train_inputs,\n",
    "          train_targets,\n",
    "          batch_size = batch_size,\n",
    "          epochs= max_epochs,\n",
    "          callbacks=[early_stopping],\n",
    "          validation_data=(valiation_inputs,validation_targets),\n",
    "          verbose=2)\n"
   ]
  },
  {
   "cell_type": "code",
   "execution_count": 11,
   "metadata": {},
   "outputs": [
    {
     "name": "stdout",
     "output_type": "stream",
     "text": [
      "448/448 [==============================] - 0s 25us/sample - loss: 0.2511 - acc: 0.9040\n"
     ]
    }
   ],
   "source": [
    "test_loss, test_accuracy = model.evaluate(test_inputs, test_targets)"
   ]
  },
  {
   "cell_type": "code",
   "execution_count": 12,
   "metadata": {},
   "outputs": [
    {
     "name": "stdout",
     "output_type": "stream",
     "text": [
      "\n",
      " Test loss: 90.40. Test accuracy: 90.40%\n"
     ]
    }
   ],
   "source": [
    "print('\\n Test loss: {1:.2f}. Test accuracy: {1:.2f}%'.format(test_loss, test_accuracy*100.))"
   ]
  },
  {
   "cell_type": "code",
   "execution_count": null,
   "metadata": {},
   "outputs": [],
   "source": []
  }
 ],
 "metadata": {
  "kernelspec": {
   "display_name": "Python 3",
   "language": "python",
   "name": "python3"
  },
  "language_info": {
   "codemirror_mode": {
    "name": "ipython",
    "version": 3
   },
   "file_extension": ".py",
   "mimetype": "text/x-python",
   "name": "python",
   "nbconvert_exporter": "python",
   "pygments_lexer": "ipython3",
   "version": "3.7.3"
  }
 },
 "nbformat": 4,
 "nbformat_minor": 2
}
